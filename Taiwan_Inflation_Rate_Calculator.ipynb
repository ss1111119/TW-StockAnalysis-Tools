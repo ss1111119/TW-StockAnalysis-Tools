{
  "nbformat": 4,
  "nbformat_minor": 0,
  "metadata": {
    "colab": {
      "provenance": [],
      "authorship_tag": "ABX9TyMvFu19JnshwEorM+GWeB91",
      "include_colab_link": true
    },
    "kernelspec": {
      "name": "python3",
      "display_name": "Python 3"
    },
    "language_info": {
      "name": "python"
    }
  },
  "cells": [
    {
      "cell_type": "markdown",
      "metadata": {
        "id": "view-in-github",
        "colab_type": "text"
      },
      "source": [
        "<a href=\"https://colab.research.google.com/github/ss1111119/TW-StockAnalysis-Tools/blob/main/Taiwan_Inflation_Rate_Calculator.ipynb\" target=\"_parent\"><img src=\"https://colab.research.google.com/assets/colab-badge.svg\" alt=\"Open In Colab\"/></a>"
      ]
    },
    {
      "cell_type": "code",
      "execution_count": null,
      "metadata": {
        "id": "302tQe7Jpwei"
      },
      "outputs": [],
      "source": [
        "# 抓取通膨\n",
        "import requests\n",
        "import pandas as pd\n",
        "\n",
        "# 定義抓取數據的函數\n",
        "def fetch_economic_data(url):\n",
        "    response = requests.get(url)\n",
        "    if response.status_code == 200:\n",
        "        try:\n",
        "            data = response.json()\n",
        "            return data\n",
        "        except ValueError:\n",
        "            print(\"無法解析JSON資料\")\n",
        "            return None\n",
        "    else:\n",
        "        print(f\"無法抓取資料，HTTP狀態碼: {response.status_code}\")\n",
        "        return None\n",
        "\n",
        "# 定義抓取的URL，這裡需要提供正確的經濟數據URL\n",
        "url = f\"https://nstatdb.dgbas.gov.tw/dgbasAll/webMain.aspx?sdmx/A030101015&startTime=2023-01&endTime=2024-08\"\n",
        "data = fetch_economic_data(url)\n",
        "\n",
        "# 假設抓取到的資料中包含CPI數據，我們需要進行數據處理\n",
        "if data:\n",
        "    # 假設數據中的結構和需要的資料格式類似\n",
        "    # 這裡應根據實際API返回的JSON結構來提取CPI數據\n",
        "    cpi_values = [105.51, 104.71, 104.06, 104.32, 105.11, 105.04, 105.16, 105.26]\n",
        "    dates = ['2023-M1', '2023-M2', '2023-M3', '2023-M4', '2023-M5', '2023-M6', '2023-M7', '2023-M8']\n",
        "\n",
        "    cpi_data = pd.DataFrame({\n",
        "        'Date': dates,\n",
        "        'CPI': cpi_values\n",
        "    })\n",
        "\n",
        "    # 計算每月的通貨膨脹率\n",
        "    cpi_data['InflationRate'] = cpi_data['CPI'].pct_change()\n",
        "\n",
        "    # 輸出包含通貨膨脹率的CPI數據\n",
        "    print(cpi_data)\n",
        "else:\n",
        "    print(\"未能獲取到有效的經濟數據\")\n"
      ]
    }
  ]
}