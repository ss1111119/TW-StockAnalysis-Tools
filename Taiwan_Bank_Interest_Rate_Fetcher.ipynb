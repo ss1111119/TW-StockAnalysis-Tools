{
  "nbformat": 4,
  "nbformat_minor": 0,
  "metadata": {
    "colab": {
      "provenance": [],
      "authorship_tag": "ABX9TyP56mdjuTC92wG9OJAX2Nlc",
      "include_colab_link": true
    },
    "kernelspec": {
      "name": "python3",
      "display_name": "Python 3"
    },
    "language_info": {
      "name": "python"
    }
  },
  "cells": [
    {
      "cell_type": "markdown",
      "metadata": {
        "id": "view-in-github",
        "colab_type": "text"
      },
      "source": [
        "<a href=\"https://colab.research.google.com/github/ss1111119/TW-StockAnalysis-Tools/blob/main/Taiwan_Bank_Interest_Rate_Fetcher.ipynb\" target=\"_parent\"><img src=\"https://colab.research.google.com/assets/colab-badge.svg\" alt=\"Open In Colab\"/></a>"
      ]
    },
    {
      "cell_type": "code",
      "execution_count": null,
      "metadata": {
        "id": "2jvLelDQqpM_"
      },
      "outputs": [],
      "source": [
        "# 抓取銀行利率\n",
        "import requests\n",
        "import json\n",
        "import pandas as pd\n",
        "\n",
        "# 定義函數以抓取經濟數據，參數為項目代碼 (item_code)\n",
        "def fetch_economic_data(item_code):\n",
        "    url = f'https://cpx.cbc.gov.tw/API/DataAPI/Get?FileName={item_code}'\n",
        "    response = requests.get(url)\n",
        "\n",
        "    if response.status_code == 200:  # 檢查是否成功取得資料\n",
        "        data = response.json()\n",
        "        if 'data' in data and 'dataSets' in data['data']:\n",
        "            return data['data']['dataSets']\n",
        "        else:\n",
        "            print(\"數據格式異常\")\n",
        "            return None\n",
        "    else:\n",
        "        print(f\"抓取數據失敗，狀態碼: {response.status_code}\")\n",
        "        return None\n",
        "\n",
        "# 定義函數以提取所有年份的利率數據，並將其轉換為DataFrame\n",
        "def get_all_interest_rate_data(data):\n",
        "    if data is None:  # 如果沒有數據，輸出提示訊息\n",
        "        print(\"無數據可用\")\n",
        "        return None\n",
        "\n",
        "    records = []\n",
        "    for record in data:\n",
        "        records.append({\n",
        "            \"year\": record[0],  # 提取年份\n",
        "            \"discount_rate\": record[1],  # 提取重貼現率\n",
        "            \"secured_loan_rate\": record[2],  # 提取擔保借款利率\n",
        "            \"short_term_financing_rate\": record[3]  # 提取短期融資利率\n",
        "        })\n",
        "\n",
        "    # 將提取的數據轉換為DataFrame\n",
        "    df = pd.DataFrame(records)\n",
        "    return df\n",
        "\n",
        "# 示例：提取所有年份的利率數據並將其轉換為DataFrame\n",
        "interest_rate_data = fetch_economic_data('EG2AY01')  # 抓取利率數據\n",
        "interest_rate_df = get_all_interest_rate_data(interest_rate_data)\n",
        "\n",
        "# 輸出轉換後的DataFrame\n",
        "print(interest_rate_df)\n"
      ]
    }
  ]
}